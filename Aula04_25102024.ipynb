{
  "nbformat": 4,
  "nbformat_minor": 0,
  "metadata": {
    "colab": {
      "provenance": [],
      "authorship_tag": "ABX9TyPE5KmkDCbMkjXGOoTxEhfd",
      "include_colab_link": true
    },
    "kernelspec": {
      "name": "python3",
      "display_name": "Python 3"
    },
    "language_info": {
      "name": "python"
    }
  },
  "cells": [
    {
      "cell_type": "markdown",
      "metadata": {
        "id": "view-in-github",
        "colab_type": "text"
      },
      "source": [
        "<a href=\"https://colab.research.google.com/github/CristinaMflores/BigData/blob/main/Aula04_25102024.ipynb\" target=\"_parent\"><img src=\"https://colab.research.google.com/assets/colab-badge.svg\" alt=\"Open In Colab\"/></a>"
      ]
    },
    {
      "cell_type": "code",
      "execution_count": null,
      "metadata": {
        "id": "jsgdtPytKfqe"
      },
      "outputs": [],
      "source": [
        "import pandas as pd\n",
        "import numpy as np"
      ]
    },
    {
      "cell_type": "markdown",
      "source": [
        "Criação de um Array a partir de uma lista:"
      ],
      "metadata": {
        "id": "i04wNCiCLwI9"
      }
    },
    {
      "cell_type": "code",
      "source": [
        "lista1=[1,2,3,4,5,6]\n",
        "array1=np.array(lista1)\n",
        "print(array1)"
      ],
      "metadata": {
        "id": "3cRoSTy8L7Vl"
      },
      "execution_count": null,
      "outputs": []
    },
    {
      "cell_type": "markdown",
      "source": [
        "[1 2 3 4 5 6]\n",
        "Principais Funções para Definição de Arrays partindo do Zero:"
      ],
      "metadata": {
        "id": "u3wOcFLuL_Ft"
      }
    },
    {
      "cell_type": "code",
      "source": [
        "print(array1.dtype)"
      ],
      "metadata": {
        "id": "f-6cwmqGMJEj"
      },
      "execution_count": null,
      "outputs": []
    },
    {
      "cell_type": "markdown",
      "source": [
        "int64"
      ],
      "metadata": {
        "id": "wOsoYy4CMLI4"
      }
    },
    {
      "cell_type": "code",
      "source": [
        "print(array1.shape)"
      ],
      "metadata": {
        "id": "0E5WbamkMPmP"
      },
      "execution_count": null,
      "outputs": []
    },
    {
      "cell_type": "markdown",
      "source": [
        "(6,)"
      ],
      "metadata": {
        "id": "c3Cmp8WhMZ7I"
      }
    },
    {
      "cell_type": "code",
      "source": [
        "zeros=np.zeros((4,3))\n",
        "print(zeros)"
      ],
      "metadata": {
        "id": "B5QRrbrwMfwr"
      },
      "execution_count": null,
      "outputs": []
    },
    {
      "cell_type": "markdown",
      "source": [
        "[[0. 0. 0.]\n",
        " [0. 0. 0.]\n",
        " [0. 0. 0.]\n",
        " [0. 0. 0.]]"
      ],
      "metadata": {
        "id": "8Ii90IUbMl3L"
      }
    },
    {
      "cell_type": "code",
      "source": [
        "number_one=np.ones((4,3))\n",
        "print(number_one)"
      ],
      "metadata": {
        "id": "ricv1qgUM9qr"
      },
      "execution_count": null,
      "outputs": []
    },
    {
      "cell_type": "markdown",
      "source": [
        "[[1. 1. 1.]\n",
        " [1. 1. 1.]\n",
        " [1. 1. 1.]\n",
        " [1. 1. 1.]]"
      ],
      "metadata": {
        "id": "16npPSBsM_ZC"
      }
    },
    {
      "cell_type": "code",
      "source": [
        "vazio=np.empty((4,4))\n",
        "print(vazio)"
      ],
      "metadata": {
        "id": "cWPtaoyKNEuS"
      },
      "execution_count": null,
      "outputs": []
    },
    {
      "cell_type": "markdown",
      "source": [
        "[[6.23042070e-307 4.67296746e-307 1.69121096e-306 1.11261162e-306]\n",
        " [9.34598925e-307 1.42419802e-306 8.01092457e-307 6.23053614e-307]\n",
        " [1.86919649e-306 1.78020848e-306 1.11258175e-306 1.78019082e-306]\n",
        " [1.33511290e-306 4.67296747e-307 7.23188049e-308 1.35994435e-317]]"
      ],
      "metadata": {
        "id": "R1qFyeHYNJTb"
      }
    },
    {
      "cell_type": "code",
      "source": [
        "sequencia=np.arange(-100,-10,10)\n",
        "print(sequencia)"
      ],
      "metadata": {
        "id": "-zXsOINVNQMn"
      },
      "execution_count": null,
      "outputs": []
    },
    {
      "cell_type": "markdown",
      "source": [
        "[-100  -90  -80  -70  -60  -50  -40  -30  -20]"
      ],
      "metadata": {
        "id": "2M402gv5NWh4"
      }
    },
    {
      "cell_type": "code",
      "source": [
        "aleatorio=np.random.rand(2,3)\n",
        "print(aleatorio)"
      ],
      "metadata": {
        "id": "V1B2LjP3Ncqv"
      },
      "execution_count": null,
      "outputs": []
    },
    {
      "cell_type": "markdown",
      "source": [
        "[[0.20359756 0.4669691  0.9314291 ]\n",
        " [0.75979036 0.0328074  0.53263958]]\n",
        "Funções para Manipulação de Arrays Existentes:"
      ],
      "metadata": {
        "id": "6UL4GNScNkJT"
      }
    },
    {
      "cell_type": "code",
      "source": [
        "array2=array1.reshape((3,2))\n",
        "print(array2)"
      ],
      "metadata": {
        "id": "sPkDDKgFNqcH"
      },
      "execution_count": null,
      "outputs": []
    },
    {
      "cell_type": "markdown",
      "source": [
        "[[1 2]\n",
        " [3 4]\n",
        " [5 6]]"
      ],
      "metadata": {
        "id": "DMrdaHBoNvkv"
      }
    },
    {
      "cell_type": "code",
      "source": [
        "quebra=np.split(array2,3)\n",
        "print(quebra)"
      ],
      "metadata": {
        "id": "LmRmGluLNz-D"
      },
      "execution_count": null,
      "outputs": []
    },
    {
      "cell_type": "markdown",
      "source": [
        "[array([[1, 2]]), array([[3, 4]]), array([[5, 6]])]"
      ],
      "metadata": {
        "id": "bbUVO-L2N4Il"
      }
    },
    {
      "cell_type": "code",
      "source": [
        "array3=np.array([1,2])\n",
        "array4=np.array([3,4])\n",
        "print(array3,array4)\n",
        "uniao=np.concatenate((array3,array4))\n",
        "print(uniao)"
      ],
      "metadata": {
        "id": "nEVKw13HN9Js"
      },
      "execution_count": null,
      "outputs": []
    },
    {
      "cell_type": "markdown",
      "source": [
        "[1 2] [3 4]\n",
        "[1 2 3 4]\n",
        "Operações com Séries Pandas:\n",
        "\n",
        "Criação:"
      ],
      "metadata": {
        "id": "dKxYPCisOCsR"
      }
    },
    {
      "cell_type": "code",
      "source": [
        "serie1=pd.Series([10,20,30],index=['a','b','c'])\n",
        "print(serie1)"
      ],
      "metadata": {
        "id": "OtpP766aOND_"
      },
      "execution_count": null,
      "outputs": []
    },
    {
      "cell_type": "markdown",
      "source": [
        "a    10\n",
        "b    20\n",
        "c    30\n",
        "dtype: int64\n",
        "Seleção por Índice:"
      ],
      "metadata": {
        "id": "JLQUxAtOOO4a"
      }
    },
    {
      "cell_type": "code",
      "source": [
        "print(serie1['a'])\n",
        "print('--------')\n",
        "print(serie1[['a']])\n",
        "print('--------')\n",
        "print(serie1[['a','c']])"
      ],
      "metadata": {
        "id": "aPQpbyq5OUbb"
      },
      "execution_count": null,
      "outputs": []
    },
    {
      "cell_type": "markdown",
      "source": [
        "10\n",
        "--------\n",
        "a    10\n",
        "dtype: int64\n",
        "--------\n",
        "a    10\n",
        "c    30\n",
        "dtype: int64\n",
        "Operações de Filtragem e Aritméticas:\n"
      ],
      "metadata": {
        "id": "WI6g5hANOhz4"
      }
    },
    {
      "cell_type": "code",
      "source": [
        "filtro1=serie1[serie1>15]\n",
        "print(filtro1)\n",
        "print('--------')\n",
        "serie2=serie1*3\n",
        "print(serie2)"
      ],
      "metadata": {
        "id": "XbkisF7QOr56"
      },
      "execution_count": null,
      "outputs": []
    },
    {
      "cell_type": "markdown",
      "source": [
        "b    20\n",
        "c    30\n",
        "dtype: int64\n",
        "--------\n",
        "a    30\n",
        "b    60\n",
        "c    90\n",
        "dtype: int64"
      ],
      "metadata": {
        "id": "5QfcZ9g1OxRb"
      }
    },
    {
      "cell_type": "code",
      "source": [
        "serie3=pd.Series([1,2,3,4])\n",
        "serie4=pd.Series([5,6,7,8])\n",
        "\n",
        "#Operações Fundamentais:\n",
        "print(serie3+serie4)\n",
        "print('--------')\n",
        "print(serie3-serie4)\n",
        "print('--------')\n",
        "print(serie3*serie4)\n",
        "print('--------')\n",
        "print(serie3/serie4)"
      ],
      "metadata": {
        "id": "IPXLIu6RPWLu"
      },
      "execution_count": null,
      "outputs": []
    },
    {
      "cell_type": "markdown",
      "source": [
        "0     6\n",
        "1     8\n",
        "2    10\n",
        "3    12\n",
        "dtype: int64\n",
        "--------\n",
        "0   -4\n",
        "1   -4\n",
        "2   -4\n",
        "3   -4\n",
        "dtype: int64\n",
        "--------\n",
        "0     5\n",
        "1    12\n",
        "2    21\n",
        "3    32\n",
        "dtype: int64\n",
        "--------\n",
        "0    0.200000\n",
        "1    0.333333\n",
        "2    0.428571\n",
        "3    0.500000\n",
        "dtype: float64"
      ],
      "metadata": {
        "id": "FplTVd_TPbJ-"
      }
    },
    {
      "cell_type": "code",
      "source": [
        "#Suporte a Valores Nulos:\n",
        "\n",
        "serievazia=pd.Series([10,np.nan,30])\n",
        "print(serievazia) #NaN = 'Null as Number'"
      ],
      "metadata": {
        "id": "DRvK95p9PjLi"
      },
      "execution_count": null,
      "outputs": []
    },
    {
      "cell_type": "markdown",
      "source": [
        "0    10.0\n",
        "1     NaN\n",
        "2    30.0\n",
        "dtype: float64"
      ],
      "metadata": {
        "id": "_KkcqhDHPoAC"
      }
    },
    {
      "cell_type": "code",
      "source": [
        "print(serie3+serievazia)\n",
        "print('--------')\n",
        "print(serie3-serievazia)\n",
        "print('--------')\n",
        "print(serie3*serievazia)\n",
        "print('--------')\n",
        "print(serie3/serievazia)"
      ],
      "metadata": {
        "id": "0oIb4jcyPsOg"
      },
      "execution_count": null,
      "outputs": []
    },
    {
      "cell_type": "markdown",
      "source": [
        "0    11.0\n",
        "1     NaN\n",
        "2    33.0\n",
        "3     NaN\n",
        "dtype: float64\n",
        "--------\n",
        "0    -9.0\n",
        "1     NaN\n",
        "2   -27.0\n",
        "3     NaN\n",
        "dtype: float64\n",
        "--------\n",
        "0    10.0\n",
        "1     NaN\n",
        "2    90.0\n",
        "3     NaN\n",
        "dtype: float64\n",
        "--------\n",
        "0    0.1\n",
        "1    NaN\n",
        "2    0.1\n",
        "3    NaN\n",
        "dtype: float64"
      ],
      "metadata": {
        "id": "OC65lneiPyLn"
      }
    }
  ]
}